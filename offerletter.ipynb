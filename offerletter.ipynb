{
 "cells": [
  {
   "cell_type": "code",
   "execution_count": null,
   "id": "ec07240e-22ff-4f12-a6a2-6c994728366d",
   "metadata": {},
   "outputs": [],
   "source": [
    "# Offer Letter Generator using Python\n",
    "# Self-Made Assignment\n",
    "\n",
    "# Taking input from the user\n",
    "company_address = input(\"Enter company address: \")\n",
    "candidate_name = input(\"Enter candidate name: \")\n",
    "position = input(\"Enter job position: \")\n",
    "joining_date = input(\"Enter joining date (dd-mm-yyyy): \")\n",
    "salary = input(\"Enter total compensation package: \")\n",
    "email = input(\"Enter HR email address: \")\n",
    "hr_name = input(\"Enter HR Manager name: \")\n",
    "\n",
    "# Printing the offer letter\n",
    "print(\"\\n\" + \"-\"*80 + \"\\n\")\n",
    "print(company_address)\n",
    "print(f\"\\nDear {candidate_name},\")\n",
    "print(f\"Subject: Offer of Employment for the position of {position}\\n\")\n",
    "\n",
    "print(f\"We are delighted to extend this formal offer of employment to you for the position of {position} at our organization. Based on your qualifications and the skills you demonstrated during the recruitment process, we are confident that you will be a valuable addition to our team.\")\n",
    "\n",
    "print(f\"\\nAs discussed, your expected date of joining is {joining_date}. Your total compensation package will be {salary}, which includes all salary components as per the company’s policy. Further details regarding your compensation will be provided in your employment contract.\")\n",
    "\n",
    "print(\"\\nWe expect you to bring your best efforts to help the company achieve its goals, and we are committed to supporting your professional growth during your time with us.\")\n",
    "\n",
    "print(f\"\\nPlease confirm your acceptance of this offer by sending an email to {email} at your earliest convenience. Should you have any queries regarding this offer, feel free to reach out to us.\")\n",
    "\n",
    "print(\"\\nWe look forward to having you onboard and are excited about the great things we can accomplish together.\")\n",
    "\n",
    "print(f\"\\nSincerely,\\n{hr_name}\\nHR Manager\")\n",
    "print(\"\\n\" + \"-\"*80)\n"
   ]
  },
  {
   "cell_type": "code",
   "execution_count": null,
   "id": "b28fa100-8af9-4353-b005-1c56ee70a5be",
   "metadata": {},
   "outputs": [],
   "source": []
  }
 ],
 "metadata": {
  "kernelspec": {
   "display_name": "Python [conda env:base] *",
   "language": "python",
   "name": "conda-base-py"
  },
  "language_info": {
   "codemirror_mode": {
    "name": "ipython",
    "version": 3
   },
   "file_extension": ".py",
   "mimetype": "text/x-python",
   "name": "python",
   "nbconvert_exporter": "python",
   "pygments_lexer": "ipython3",
   "version": "3.13.5"
  }
 },
 "nbformat": 4,
 "nbformat_minor": 5
}
